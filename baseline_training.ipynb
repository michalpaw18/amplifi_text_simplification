{
  "cells": [
    {
      "cell_type": "markdown",
      "metadata": {
        "id": "view-in-github",
        "colab_type": "text"
      },
      "source": [
        "<a href=\"https://colab.research.google.com/github/michalpaw18/project/blob/main/baseline_training.ipynb\" target=\"_parent\"><img src=\"https://colab.research.google.com/assets/colab-badge.svg\" alt=\"Open In Colab\"/></a>"
      ]
    },
    {
      "cell_type": "code",
      "execution_count": null,
      "metadata": {
        "id": "KlQefmQ7DEEo"
      },
      "outputs": [],
      "source": [
        ""
      ]
    },
    {
      "cell_type": "code",
      "execution_count": null,
      "metadata": {
        "colab": {
          "base_uri": "https://localhost:8080/"
        },
        "id": "bzPImHhIlh4J",
        "outputId": "edc51ca4-a6a3-4542-8daf-1bdde8cc701d"
      },
      "outputs": [
        {
          "name": "stdout",
          "output_type": "stream",
          "text": [
            "Drive already mounted at /content/drive; to attempt to forcibly remount, call drive.mount(\"/content/drive\", force_remount=True).\n"
          ]
        }
      ],
      "source": [
        "from google.colab import drive\n",
        "drive.mount('/content/drive')"
      ]
    },
    {
      "cell_type": "code",
      "execution_count": 1,
      "metadata": {
        "colab": {
          "base_uri": "https://localhost:8080/"
        },
        "id": "uibXTKTx-6xz",
        "outputId": "2afdd3c1-cc26-4ec2-f119-3ae88cbb72e5"
      },
      "outputs": [
        {
          "output_type": "stream",
          "name": "stdout",
          "text": [
            "Looking in indexes: https://pypi.org/simple, https://us-python.pkg.dev/colab-wheels/public/simple/\n",
            "Requirement already satisfied: spacy in /usr/local/lib/python3.7/dist-packages (2.3.7)\n",
            "Requirement already satisfied: setuptools in /usr/local/lib/python3.7/dist-packages (from spacy) (57.4.0)\n",
            "Requirement already satisfied: tqdm<5.0.0,>=4.38.0 in /usr/local/lib/python3.7/dist-packages (from spacy) (4.64.0)\n",
            "Requirement already satisfied: wasabi<1.1.0,>=0.4.0 in /usr/local/lib/python3.7/dist-packages (from spacy) (0.10.1)\n",
            "Requirement already satisfied: srsly<1.1.0,>=1.0.2 in /usr/local/lib/python3.7/dist-packages (from spacy) (1.0.5)\n",
            "Requirement already satisfied: murmurhash<1.1.0,>=0.28.0 in /usr/local/lib/python3.7/dist-packages (from spacy) (1.0.7)\n",
            "Requirement already satisfied: plac<1.2.0,>=0.9.6 in /usr/local/lib/python3.7/dist-packages (from spacy) (1.1.3)\n",
            "Requirement already satisfied: requests<3.0.0,>=2.13.0 in /usr/local/lib/python3.7/dist-packages (from spacy) (2.23.0)\n",
            "Requirement already satisfied: cymem<2.1.0,>=2.0.2 in /usr/local/lib/python3.7/dist-packages (from spacy) (2.0.6)\n",
            "Requirement already satisfied: catalogue<1.1.0,>=0.0.7 in /usr/local/lib/python3.7/dist-packages (from spacy) (1.0.0)\n",
            "Requirement already satisfied: numpy>=1.15.0 in /usr/local/lib/python3.7/dist-packages (from spacy) (1.21.6)\n",
            "Requirement already satisfied: blis<0.8.0,>=0.4.0 in /usr/local/lib/python3.7/dist-packages (from spacy) (0.7.8)\n",
            "Requirement already satisfied: preshed<3.1.0,>=3.0.2 in /usr/local/lib/python3.7/dist-packages (from spacy) (3.0.6)\n",
            "Requirement already satisfied: thinc<7.5.0,>=7.4.1 in /usr/local/lib/python3.7/dist-packages (from spacy) (7.4.5)\n",
            "Requirement already satisfied: importlib-metadata>=0.20 in /usr/local/lib/python3.7/dist-packages (from catalogue<1.1.0,>=0.0.7->spacy) (4.12.0)\n",
            "Requirement already satisfied: typing-extensions>=3.6.4 in /usr/local/lib/python3.7/dist-packages (from importlib-metadata>=0.20->catalogue<1.1.0,>=0.0.7->spacy) (4.1.1)\n",
            "Requirement already satisfied: zipp>=0.5 in /usr/local/lib/python3.7/dist-packages (from importlib-metadata>=0.20->catalogue<1.1.0,>=0.0.7->spacy) (3.8.1)\n",
            "Requirement already satisfied: certifi>=2017.4.17 in /usr/local/lib/python3.7/dist-packages (from requests<3.0.0,>=2.13.0->spacy) (2022.6.15)\n",
            "Requirement already satisfied: chardet<4,>=3.0.2 in /usr/local/lib/python3.7/dist-packages (from requests<3.0.0,>=2.13.0->spacy) (3.0.4)\n",
            "Requirement already satisfied: urllib3!=1.25.0,!=1.25.1,<1.26,>=1.21.1 in /usr/local/lib/python3.7/dist-packages (from requests<3.0.0,>=2.13.0->spacy) (1.24.3)\n",
            "Requirement already satisfied: idna<3,>=2.5 in /usr/local/lib/python3.7/dist-packages (from requests<3.0.0,>=2.13.0->spacy) (2.10)\n"
          ]
        }
      ],
      "source": [
        "!pip install spacy"
      ]
    },
    {
      "cell_type": "code",
      "execution_count": 2,
      "metadata": {
        "colab": {
          "base_uri": "https://localhost:8080/"
        },
        "id": "hQwBzhO0_ItD",
        "outputId": "b9699649-a6fe-4092-99f1-952e696e0a87"
      },
      "outputs": [
        {
          "output_type": "stream",
          "name": "stdout",
          "text": [
            "Looking in indexes: https://pypi.org/simple, https://us-python.pkg.dev/colab-wheels/public/simple/\n",
            "Collecting en_core_web_md==2.3.1\n",
            "  Using cached en_core_web_md-2.3.1-py3-none-any.whl\n",
            "Requirement already satisfied: spacy<2.4.0,>=2.3.0 in /usr/local/lib/python3.7/dist-packages (from en_core_web_md==2.3.1) (2.3.7)\n",
            "Requirement already satisfied: tqdm<5.0.0,>=4.38.0 in /usr/local/lib/python3.7/dist-packages (from spacy<2.4.0,>=2.3.0->en_core_web_md==2.3.1) (4.64.0)\n",
            "Requirement already satisfied: numpy>=1.15.0 in /usr/local/lib/python3.7/dist-packages (from spacy<2.4.0,>=2.3.0->en_core_web_md==2.3.1) (1.21.6)\n",
            "Requirement already satisfied: preshed<3.1.0,>=3.0.2 in /usr/local/lib/python3.7/dist-packages (from spacy<2.4.0,>=2.3.0->en_core_web_md==2.3.1) (3.0.6)\n",
            "Requirement already satisfied: thinc<7.5.0,>=7.4.1 in /usr/local/lib/python3.7/dist-packages (from spacy<2.4.0,>=2.3.0->en_core_web_md==2.3.1) (7.4.5)\n",
            "Requirement already satisfied: srsly<1.1.0,>=1.0.2 in /usr/local/lib/python3.7/dist-packages (from spacy<2.4.0,>=2.3.0->en_core_web_md==2.3.1) (1.0.5)\n",
            "Requirement already satisfied: plac<1.2.0,>=0.9.6 in /usr/local/lib/python3.7/dist-packages (from spacy<2.4.0,>=2.3.0->en_core_web_md==2.3.1) (1.1.3)\n",
            "Requirement already satisfied: requests<3.0.0,>=2.13.0 in /usr/local/lib/python3.7/dist-packages (from spacy<2.4.0,>=2.3.0->en_core_web_md==2.3.1) (2.23.0)\n",
            "Requirement already satisfied: wasabi<1.1.0,>=0.4.0 in /usr/local/lib/python3.7/dist-packages (from spacy<2.4.0,>=2.3.0->en_core_web_md==2.3.1) (0.10.1)\n",
            "Requirement already satisfied: setuptools in /usr/local/lib/python3.7/dist-packages (from spacy<2.4.0,>=2.3.0->en_core_web_md==2.3.1) (57.4.0)\n",
            "Requirement already satisfied: catalogue<1.1.0,>=0.0.7 in /usr/local/lib/python3.7/dist-packages (from spacy<2.4.0,>=2.3.0->en_core_web_md==2.3.1) (1.0.0)\n",
            "Requirement already satisfied: blis<0.8.0,>=0.4.0 in /usr/local/lib/python3.7/dist-packages (from spacy<2.4.0,>=2.3.0->en_core_web_md==2.3.1) (0.7.8)\n",
            "Requirement already satisfied: murmurhash<1.1.0,>=0.28.0 in /usr/local/lib/python3.7/dist-packages (from spacy<2.4.0,>=2.3.0->en_core_web_md==2.3.1) (1.0.7)\n",
            "Requirement already satisfied: cymem<2.1.0,>=2.0.2 in /usr/local/lib/python3.7/dist-packages (from spacy<2.4.0,>=2.3.0->en_core_web_md==2.3.1) (2.0.6)\n",
            "Requirement already satisfied: importlib-metadata>=0.20 in /usr/local/lib/python3.7/dist-packages (from catalogue<1.1.0,>=0.0.7->spacy<2.4.0,>=2.3.0->en_core_web_md==2.3.1) (4.12.0)\n",
            "Requirement already satisfied: typing-extensions>=3.6.4 in /usr/local/lib/python3.7/dist-packages (from importlib-metadata>=0.20->catalogue<1.1.0,>=0.0.7->spacy<2.4.0,>=2.3.0->en_core_web_md==2.3.1) (4.1.1)\n",
            "Requirement already satisfied: zipp>=0.5 in /usr/local/lib/python3.7/dist-packages (from importlib-metadata>=0.20->catalogue<1.1.0,>=0.0.7->spacy<2.4.0,>=2.3.0->en_core_web_md==2.3.1) (3.8.1)\n",
            "Requirement already satisfied: chardet<4,>=3.0.2 in /usr/local/lib/python3.7/dist-packages (from requests<3.0.0,>=2.13.0->spacy<2.4.0,>=2.3.0->en_core_web_md==2.3.1) (3.0.4)\n",
            "Requirement already satisfied: certifi>=2017.4.17 in /usr/local/lib/python3.7/dist-packages (from requests<3.0.0,>=2.13.0->spacy<2.4.0,>=2.3.0->en_core_web_md==2.3.1) (2022.6.15)\n",
            "Requirement already satisfied: idna<3,>=2.5 in /usr/local/lib/python3.7/dist-packages (from requests<3.0.0,>=2.13.0->spacy<2.4.0,>=2.3.0->en_core_web_md==2.3.1) (2.10)\n",
            "Requirement already satisfied: urllib3!=1.25.0,!=1.25.1,<1.26,>=1.21.1 in /usr/local/lib/python3.7/dist-packages (from requests<3.0.0,>=2.13.0->spacy<2.4.0,>=2.3.0->en_core_web_md==2.3.1) (1.24.3)\n",
            "\u001b[38;5;2m✔ Download and installation successful\u001b[0m\n",
            "You can now load the model via spacy.load('en_core_web_md')\n"
          ]
        }
      ],
      "source": [
        "!python -m spacy download en_core_web_md"
      ]
    },
    {
      "cell_type": "code",
      "execution_count": 3,
      "metadata": {
        "colab": {
          "base_uri": "https://localhost:8080/"
        },
        "id": "UdUKyuPZ_OGd",
        "outputId": "7928e3aa-19c1-439e-e90c-2af9cd8e8f06"
      },
      "outputs": [
        {
          "output_type": "stream",
          "name": "stdout",
          "text": [
            "Looking in indexes: https://pypi.org/simple, https://us-python.pkg.dev/colab-wheels/public/simple/\n",
            "Collecting fr_core_news_md==2.3.0\n",
            "  Using cached fr_core_news_md-2.3.0-py3-none-any.whl\n",
            "Requirement already satisfied: spacy<2.4.0,>=2.3.0 in /usr/local/lib/python3.7/dist-packages (from fr_core_news_md==2.3.0) (2.3.7)\n",
            "Requirement already satisfied: murmurhash<1.1.0,>=0.28.0 in /usr/local/lib/python3.7/dist-packages (from spacy<2.4.0,>=2.3.0->fr_core_news_md==2.3.0) (1.0.7)\n",
            "Requirement already satisfied: blis<0.8.0,>=0.4.0 in /usr/local/lib/python3.7/dist-packages (from spacy<2.4.0,>=2.3.0->fr_core_news_md==2.3.0) (0.7.8)\n",
            "Requirement already satisfied: numpy>=1.15.0 in /usr/local/lib/python3.7/dist-packages (from spacy<2.4.0,>=2.3.0->fr_core_news_md==2.3.0) (1.21.6)\n",
            "Requirement already satisfied: cymem<2.1.0,>=2.0.2 in /usr/local/lib/python3.7/dist-packages (from spacy<2.4.0,>=2.3.0->fr_core_news_md==2.3.0) (2.0.6)\n",
            "Requirement already satisfied: tqdm<5.0.0,>=4.38.0 in /usr/local/lib/python3.7/dist-packages (from spacy<2.4.0,>=2.3.0->fr_core_news_md==2.3.0) (4.64.0)\n",
            "Requirement already satisfied: preshed<3.1.0,>=3.0.2 in /usr/local/lib/python3.7/dist-packages (from spacy<2.4.0,>=2.3.0->fr_core_news_md==2.3.0) (3.0.6)\n",
            "Requirement already satisfied: requests<3.0.0,>=2.13.0 in /usr/local/lib/python3.7/dist-packages (from spacy<2.4.0,>=2.3.0->fr_core_news_md==2.3.0) (2.23.0)\n",
            "Requirement already satisfied: wasabi<1.1.0,>=0.4.0 in /usr/local/lib/python3.7/dist-packages (from spacy<2.4.0,>=2.3.0->fr_core_news_md==2.3.0) (0.10.1)\n",
            "Requirement already satisfied: srsly<1.1.0,>=1.0.2 in /usr/local/lib/python3.7/dist-packages (from spacy<2.4.0,>=2.3.0->fr_core_news_md==2.3.0) (1.0.5)\n",
            "Requirement already satisfied: plac<1.2.0,>=0.9.6 in /usr/local/lib/python3.7/dist-packages (from spacy<2.4.0,>=2.3.0->fr_core_news_md==2.3.0) (1.1.3)\n",
            "Requirement already satisfied: catalogue<1.1.0,>=0.0.7 in /usr/local/lib/python3.7/dist-packages (from spacy<2.4.0,>=2.3.0->fr_core_news_md==2.3.0) (1.0.0)\n",
            "Requirement already satisfied: thinc<7.5.0,>=7.4.1 in /usr/local/lib/python3.7/dist-packages (from spacy<2.4.0,>=2.3.0->fr_core_news_md==2.3.0) (7.4.5)\n",
            "Requirement already satisfied: setuptools in /usr/local/lib/python3.7/dist-packages (from spacy<2.4.0,>=2.3.0->fr_core_news_md==2.3.0) (57.4.0)\n",
            "Requirement already satisfied: importlib-metadata>=0.20 in /usr/local/lib/python3.7/dist-packages (from catalogue<1.1.0,>=0.0.7->spacy<2.4.0,>=2.3.0->fr_core_news_md==2.3.0) (4.12.0)\n",
            "Requirement already satisfied: zipp>=0.5 in /usr/local/lib/python3.7/dist-packages (from importlib-metadata>=0.20->catalogue<1.1.0,>=0.0.7->spacy<2.4.0,>=2.3.0->fr_core_news_md==2.3.0) (3.8.1)\n",
            "Requirement already satisfied: typing-extensions>=3.6.4 in /usr/local/lib/python3.7/dist-packages (from importlib-metadata>=0.20->catalogue<1.1.0,>=0.0.7->spacy<2.4.0,>=2.3.0->fr_core_news_md==2.3.0) (4.1.1)\n",
            "Requirement already satisfied: urllib3!=1.25.0,!=1.25.1,<1.26,>=1.21.1 in /usr/local/lib/python3.7/dist-packages (from requests<3.0.0,>=2.13.0->spacy<2.4.0,>=2.3.0->fr_core_news_md==2.3.0) (1.24.3)\n",
            "Requirement already satisfied: chardet<4,>=3.0.2 in /usr/local/lib/python3.7/dist-packages (from requests<3.0.0,>=2.13.0->spacy<2.4.0,>=2.3.0->fr_core_news_md==2.3.0) (3.0.4)\n",
            "Requirement already satisfied: idna<3,>=2.5 in /usr/local/lib/python3.7/dist-packages (from requests<3.0.0,>=2.13.0->spacy<2.4.0,>=2.3.0->fr_core_news_md==2.3.0) (2.10)\n",
            "Requirement already satisfied: certifi>=2017.4.17 in /usr/local/lib/python3.7/dist-packages (from requests<3.0.0,>=2.13.0->spacy<2.4.0,>=2.3.0->fr_core_news_md==2.3.0) (2022.6.15)\n",
            "\u001b[38;5;2m✔ Download and installation successful\u001b[0m\n",
            "You can now load the model via spacy.load('fr_core_news_md')\n",
            "Looking in indexes: https://pypi.org/simple, https://us-python.pkg.dev/colab-wheels/public/simple/\n",
            "Collecting es_core_news_md==2.3.1\n",
            "  Using cached es_core_news_md-2.3.1-py3-none-any.whl\n",
            "Requirement already satisfied: spacy<2.4.0,>=2.3.0 in /usr/local/lib/python3.7/dist-packages (from es_core_news_md==2.3.1) (2.3.7)\n",
            "Requirement already satisfied: preshed<3.1.0,>=3.0.2 in /usr/local/lib/python3.7/dist-packages (from spacy<2.4.0,>=2.3.0->es_core_news_md==2.3.1) (3.0.6)\n",
            "Requirement already satisfied: murmurhash<1.1.0,>=0.28.0 in /usr/local/lib/python3.7/dist-packages (from spacy<2.4.0,>=2.3.0->es_core_news_md==2.3.1) (1.0.7)\n",
            "Requirement already satisfied: blis<0.8.0,>=0.4.0 in /usr/local/lib/python3.7/dist-packages (from spacy<2.4.0,>=2.3.0->es_core_news_md==2.3.1) (0.7.8)\n",
            "Requirement already satisfied: catalogue<1.1.0,>=0.0.7 in /usr/local/lib/python3.7/dist-packages (from spacy<2.4.0,>=2.3.0->es_core_news_md==2.3.1) (1.0.0)\n",
            "Requirement already satisfied: numpy>=1.15.0 in /usr/local/lib/python3.7/dist-packages (from spacy<2.4.0,>=2.3.0->es_core_news_md==2.3.1) (1.21.6)\n",
            "Requirement already satisfied: thinc<7.5.0,>=7.4.1 in /usr/local/lib/python3.7/dist-packages (from spacy<2.4.0,>=2.3.0->es_core_news_md==2.3.1) (7.4.5)\n",
            "Requirement already satisfied: wasabi<1.1.0,>=0.4.0 in /usr/local/lib/python3.7/dist-packages (from spacy<2.4.0,>=2.3.0->es_core_news_md==2.3.1) (0.10.1)\n",
            "Requirement already satisfied: plac<1.2.0,>=0.9.6 in /usr/local/lib/python3.7/dist-packages (from spacy<2.4.0,>=2.3.0->es_core_news_md==2.3.1) (1.1.3)\n",
            "Requirement already satisfied: cymem<2.1.0,>=2.0.2 in /usr/local/lib/python3.7/dist-packages (from spacy<2.4.0,>=2.3.0->es_core_news_md==2.3.1) (2.0.6)\n",
            "Requirement already satisfied: setuptools in /usr/local/lib/python3.7/dist-packages (from spacy<2.4.0,>=2.3.0->es_core_news_md==2.3.1) (57.4.0)\n",
            "Requirement already satisfied: tqdm<5.0.0,>=4.38.0 in /usr/local/lib/python3.7/dist-packages (from spacy<2.4.0,>=2.3.0->es_core_news_md==2.3.1) (4.64.0)\n",
            "Requirement already satisfied: srsly<1.1.0,>=1.0.2 in /usr/local/lib/python3.7/dist-packages (from spacy<2.4.0,>=2.3.0->es_core_news_md==2.3.1) (1.0.5)\n",
            "Requirement already satisfied: requests<3.0.0,>=2.13.0 in /usr/local/lib/python3.7/dist-packages (from spacy<2.4.0,>=2.3.0->es_core_news_md==2.3.1) (2.23.0)\n",
            "Requirement already satisfied: importlib-metadata>=0.20 in /usr/local/lib/python3.7/dist-packages (from catalogue<1.1.0,>=0.0.7->spacy<2.4.0,>=2.3.0->es_core_news_md==2.3.1) (4.12.0)\n",
            "Requirement already satisfied: zipp>=0.5 in /usr/local/lib/python3.7/dist-packages (from importlib-metadata>=0.20->catalogue<1.1.0,>=0.0.7->spacy<2.4.0,>=2.3.0->es_core_news_md==2.3.1) (3.8.1)\n",
            "Requirement already satisfied: typing-extensions>=3.6.4 in /usr/local/lib/python3.7/dist-packages (from importlib-metadata>=0.20->catalogue<1.1.0,>=0.0.7->spacy<2.4.0,>=2.3.0->es_core_news_md==2.3.1) (4.1.1)\n",
            "Requirement already satisfied: urllib3!=1.25.0,!=1.25.1,<1.26,>=1.21.1 in /usr/local/lib/python3.7/dist-packages (from requests<3.0.0,>=2.13.0->spacy<2.4.0,>=2.3.0->es_core_news_md==2.3.1) (1.24.3)\n",
            "Requirement already satisfied: chardet<4,>=3.0.2 in /usr/local/lib/python3.7/dist-packages (from requests<3.0.0,>=2.13.0->spacy<2.4.0,>=2.3.0->es_core_news_md==2.3.1) (3.0.4)\n",
            "Requirement already satisfied: certifi>=2017.4.17 in /usr/local/lib/python3.7/dist-packages (from requests<3.0.0,>=2.13.0->spacy<2.4.0,>=2.3.0->es_core_news_md==2.3.1) (2022.6.15)\n",
            "Requirement already satisfied: idna<3,>=2.5 in /usr/local/lib/python3.7/dist-packages (from requests<3.0.0,>=2.13.0->spacy<2.4.0,>=2.3.0->es_core_news_md==2.3.1) (2.10)\n",
            "\u001b[38;5;2m✔ Download and installation successful\u001b[0m\n",
            "You can now load the model via spacy.load('es_core_news_md')\n"
          ]
        }
      ],
      "source": [
        "!python -m spacy download fr_core_news_md\n",
        "!python -m spacy download es_core_news_md\n",
        "\n"
      ]
    },
    {
      "cell_type": "code",
      "execution_count": null,
      "metadata": {
        "colab": {
          "base_uri": "https://localhost:8080/"
        },
        "id": "K4EvnZqelw9c",
        "outputId": "0cfaace5-f574-4a7b-b297-74ba83278ae2"
      },
      "outputs": [
        {
          "name": "stdout",
          "output_type": "stream",
          "text": [
            "fatal: destination path 'muss' already exists and is not an empty directory.\n",
            "/content/muss/muss\n",
            "\u001b[31mERROR: File \"setup.py\" or \"setup.cfg\" not found. Directory cannot be installed in editable mode: /content/muss/muss\u001b[0m\n",
            "Traceback (most recent call last):\n",
            "  File \"/usr/lib/python3.7/runpy.py\", line 183, in _run_module_as_main\n",
            "    mod_name, mod_spec, code = _get_module_details(mod_name, _Error)\n",
            "  File \"/usr/lib/python3.7/runpy.py\", line 142, in _get_module_details\n",
            "  File \"/usr/lib/python3.7/runpy.py\", line 109, in _get_module_details\n",
            "    __import__(pkg_name)\n",
            "  File \"/usr/local/lib/python3.7/dist-packages/spacy/__init__.py\", line 10, in <module>\n",
            "    from thinc.neural.util import prefer_gpu, require_gpu\n",
            "  File \"/usr/local/lib/python3.7/dist-packages/thinc/__init__.py\", line 5, in <module>\n",
            "    import numpy  # noqa: F401\n",
            "  File \"/usr/local/lib/python3.7/dist-packages/numpy/__init__.py\", line 150, in <module>\n",
            "    from . import core\n",
            "  File \"/usr/local/lib/python3.7/dist-packages/numpy/core/__init__.py\", line 102, in <module>\n",
            "    from . import _internal\n",
            "  File \"/usr/local/lib/python3.7/dist-packages/numpy/core/_internal.py\", line 15, in <module>\n",
            "    import ctypes\n",
            "  File \"/usr/lib/python3.7/ctypes/__init__.py\", line 7, in <module>\n",
            "    from _ctypes import Union, Structure, Array\n",
            "KeyboardInterrupt\n"
          ]
        }
      ],
      "source": [
        "!git clone https://github.com/facebookresearch/muss\n",
        "%cd muss/\n",
        "!pip install -e .  # Install package\n",
        "!python -m spacy download en_core_web_md fr_core_news_md es_core_news_md  # Install required spacy models"
      ]
    },
    {
      "cell_type": "code",
      "execution_count": null,
      "metadata": {
        "id": "46oNd3zG_G8t"
      },
      "outputs": [],
      "source": [
        ""
      ]
    },
    {
      "cell_type": "code",
      "execution_count": null,
      "metadata": {
        "colab": {
          "base_uri": "https://localhost:8080/"
        },
        "id": "Qa4_Q7mNs74G",
        "outputId": "d5185e9e-afcf-4c25-d113-6da21806e202"
      },
      "outputs": [
        {
          "name": "stdout",
          "output_type": "stream",
          "text": [
            "\u001b[0m\u001b[01;34mevaluation\u001b[0m/            kenlm.py  preprocessing.py  simplifiers.py  text.py\n",
            "\u001b[01;34mfairseq\u001b[0m/               laser.py  preprocessors.py  simplify.py     \u001b[01;34mutils\u001b[0m/\n",
            "feature_extraction.py  \u001b[01;34mmining\u001b[0m/   \u001b[01;34mresources\u001b[0m/        \u001b[01;36mslurm.py\u001b[0m@\n"
          ]
        }
      ],
      "source": [
        "%ls"
      ]
    },
    {
      "cell_type": "code",
      "execution_count": null,
      "metadata": {
        "colab": {
          "base_uri": "https://localhost:8080/"
        },
        "id": "2AY3AQXGmat1",
        "outputId": "90d98dd1-0677-4180-9bb4-3b16ee8e318f"
      },
      "outputs": [
        {
          "name": "stdout",
          "output_type": "stream",
          "text": [
            "python3: can't open file 'train_model.py': [Errno 2] No such file or directory\n"
          ]
        }
      ],
      "source": [
        "# !python train_model.py"
      ]
    },
    {
      "cell_type": "code",
      "execution_count": 4,
      "metadata": {
        "id": "EK3qVqen0Daa"
      },
      "outputs": [],
      "source": [
        "import muss"
      ]
    },
    {
      "cell_type": "code",
      "execution_count": 5,
      "metadata": {
        "colab": {
          "base_uri": "https://localhost:8080/"
        },
        "id": "U-RXp0290vg2",
        "outputId": "bfb8a389-7bc1-4165-82eb-52d70aca318b"
      },
      "outputs": [
        {
          "output_type": "stream",
          "name": "stdout",
          "text": [
            "Looking in indexes: https://pypi.org/simple, https://us-python.pkg.dev/colab-wheels/public/simple/\n",
            "Requirement already satisfied: fairseq in /usr/local/lib/python3.7/dist-packages (0.10.2)\n",
            "Requirement already satisfied: tqdm in /usr/local/lib/python3.7/dist-packages (from fairseq) (4.64.0)\n",
            "Requirement already satisfied: numpy in /usr/local/lib/python3.7/dist-packages (from fairseq) (1.21.6)\n",
            "Requirement already satisfied: cython in /usr/local/lib/python3.7/dist-packages (from fairseq) (0.29.32)\n",
            "Requirement already satisfied: regex in /usr/local/lib/python3.7/dist-packages (from fairseq) (2022.6.2)\n",
            "Requirement already satisfied: torch in /usr/local/lib/python3.7/dist-packages (from fairseq) (1.12.0+cu113)\n",
            "Requirement already satisfied: hydra-core in /usr/local/lib/python3.7/dist-packages (from fairseq) (1.2.0)\n",
            "Requirement already satisfied: dataclasses in /usr/local/lib/python3.7/dist-packages (from fairseq) (0.6)\n",
            "Requirement already satisfied: cffi in /usr/local/lib/python3.7/dist-packages (from fairseq) (1.15.1)\n",
            "Requirement already satisfied: sacrebleu>=1.4.12 in /usr/local/lib/python3.7/dist-packages (from fairseq) (2.2.0)\n",
            "Requirement already satisfied: tabulate>=0.8.9 in /usr/local/lib/python3.7/dist-packages (from sacrebleu>=1.4.12->fairseq) (0.8.10)\n",
            "Requirement already satisfied: colorama in /usr/local/lib/python3.7/dist-packages (from sacrebleu>=1.4.12->fairseq) (0.4.5)\n",
            "Requirement already satisfied: portalocker in /usr/local/lib/python3.7/dist-packages (from sacrebleu>=1.4.12->fairseq) (2.5.1)\n",
            "Requirement already satisfied: lxml in /usr/local/lib/python3.7/dist-packages (from sacrebleu>=1.4.12->fairseq) (4.9.1)\n",
            "Requirement already satisfied: pycparser in /usr/local/lib/python3.7/dist-packages (from cffi->fairseq) (2.21)\n",
            "Requirement already satisfied: antlr4-python3-runtime==4.9.* in /usr/local/lib/python3.7/dist-packages (from hydra-core->fairseq) (4.9.3)\n",
            "Requirement already satisfied: importlib-resources in /usr/local/lib/python3.7/dist-packages (from hydra-core->fairseq) (5.9.0)\n",
            "Requirement already satisfied: omegaconf~=2.2 in /usr/local/lib/python3.7/dist-packages (from hydra-core->fairseq) (2.2.2)\n",
            "Requirement already satisfied: packaging in /usr/local/lib/python3.7/dist-packages (from hydra-core->fairseq) (21.3)\n",
            "Requirement already satisfied: PyYAML>=5.1.0 in /usr/local/lib/python3.7/dist-packages (from omegaconf~=2.2->hydra-core->fairseq) (5.4.1)\n",
            "Requirement already satisfied: zipp>=3.1.0 in /usr/local/lib/python3.7/dist-packages (from importlib-resources->hydra-core->fairseq) (3.8.1)\n",
            "Requirement already satisfied: pyparsing!=3.0.5,>=2.0.2 in /usr/local/lib/python3.7/dist-packages (from packaging->hydra-core->fairseq) (3.0.9)\n",
            "Requirement already satisfied: typing-extensions in /usr/local/lib/python3.7/dist-packages (from torch->fairseq) (4.1.1)\n"
          ]
        }
      ],
      "source": [
        "!pip install fairseq"
      ]
    },
    {
      "cell_type": "code",
      "execution_count": 6,
      "metadata": {
        "colab": {
          "base_uri": "https://localhost:8080/"
        },
        "id": "bycRGhks1CoQ",
        "outputId": "64ee625c-889d-4197-98ee-02206f3687d8"
      },
      "outputs": [
        {
          "output_type": "stream",
          "name": "stdout",
          "text": [
            "Looking in indexes: https://pypi.org/simple, https://us-python.pkg.dev/colab-wheels/public/simple/\n",
            "Requirement already satisfied: nevergrad in /usr/local/lib/python3.7/dist-packages (0.5.0)\n",
            "Requirement already satisfied: cma>=2.6.0 in /usr/local/lib/python3.7/dist-packages (from nevergrad) (3.2.2)\n",
            "Requirement already satisfied: bayesian-optimization>=1.2.0 in /usr/local/lib/python3.7/dist-packages (from nevergrad) (1.2.0)\n",
            "Requirement already satisfied: typing-extensions>=3.6.6 in /usr/local/lib/python3.7/dist-packages (from nevergrad) (4.1.1)\n",
            "Requirement already satisfied: numpy>=1.21.1 in /usr/local/lib/python3.7/dist-packages (from nevergrad) (1.21.6)\n",
            "Requirement already satisfied: scikit-learn>=0.18.0 in /usr/local/lib/python3.7/dist-packages (from bayesian-optimization>=1.2.0->nevergrad) (1.0.2)\n",
            "Requirement already satisfied: scipy>=0.14.0 in /usr/local/lib/python3.7/dist-packages (from bayesian-optimization>=1.2.0->nevergrad) (1.7.3)\n",
            "Requirement already satisfied: joblib>=0.11 in /usr/local/lib/python3.7/dist-packages (from scikit-learn>=0.18.0->bayesian-optimization>=1.2.0->nevergrad) (1.1.0)\n",
            "Requirement already satisfied: threadpoolctl>=2.0.0 in /usr/local/lib/python3.7/dist-packages (from scikit-learn>=0.18.0->bayesian-optimization>=1.2.0->nevergrad) (3.1.0)\n"
          ]
        }
      ],
      "source": [
        "!pip install nevergrad"
      ]
    },
    {
      "cell_type": "code",
      "execution_count": 7,
      "metadata": {
        "colab": {
          "base_uri": "https://localhost:8080/"
        },
        "id": "0b1ESwos1crt",
        "outputId": "c1cadf6d-90cb-4ff2-bdbc-866d97549ce3"
      },
      "outputs": [
        {
          "output_type": "stream",
          "name": "stdout",
          "text": [
            "Looking in indexes: https://pypi.org/simple, https://us-python.pkg.dev/colab-wheels/public/simple/\n",
            "Requirement already satisfied: submitit in /usr/local/lib/python3.7/dist-packages (1.4.5)\n",
            "Requirement already satisfied: typing_extensions>=3.7.4.2 in /usr/local/lib/python3.7/dist-packages (from submitit) (4.1.1)\n",
            "Requirement already satisfied: cloudpickle>=1.2.1 in /usr/local/lib/python3.7/dist-packages (from submitit) (1.3.0)\n"
          ]
        }
      ],
      "source": [
        "!pip install submitit"
      ]
    },
    {
      "cell_type": "code",
      "execution_count": 8,
      "metadata": {
        "colab": {
          "base_uri": "https://localhost:8080/"
        },
        "id": "rSsDlDDp1k_S",
        "outputId": "3986c4a3-3d05-4975-ffeb-6d2b1e836e42"
      },
      "outputs": [
        {
          "output_type": "stream",
          "name": "stdout",
          "text": [
            "fatal: destination path 'easse' already exists and is not an empty directory.\n",
            "/content/easse\n",
            "Looking in indexes: https://pypi.org/simple, https://us-python.pkg.dev/colab-wheels/public/simple/\n",
            "Obtaining file:///content/easse\n",
            "Collecting tseval@ git+https://github.com/facebookresearch/text-simplification-evaluation.git@main\n",
            "  Cloning https://github.com/facebookresearch/text-simplification-evaluation.git (to revision main) to /tmp/pip-install-ionpunpt/tseval_495629281b9443e6ab952b6bdcd6db2e\n",
            "  Running command git clone -q https://github.com/facebookresearch/text-simplification-evaluation.git /tmp/pip-install-ionpunpt/tseval_495629281b9443e6ab952b6bdcd6db2e\n",
            "Requirement already satisfied: click in /usr/local/lib/python3.7/dist-packages (from easse==0.2.4) (7.1.2)\n",
            "Requirement already satisfied: matplotlib in /usr/local/lib/python3.7/dist-packages (from easse==0.2.4) (3.2.2)\n",
            "Requirement already satisfied: nltk>=3.6.5 in /usr/local/lib/python3.7/dist-packages (from easse==0.2.4) (3.7)\n",
            "Requirement already satisfied: numpy in /usr/local/lib/python3.7/dist-packages (from easse==0.2.4) (1.21.6)\n",
            "Requirement already satisfied: pandas in /usr/local/lib/python3.7/dist-packages (from easse==0.2.4) (1.3.5)\n",
            "Requirement already satisfied: requests>=2.21.0 in /usr/local/lib/python3.7/dist-packages (from easse==0.2.4) (2.23.0)\n",
            "Requirement already satisfied: sacrebleu>=2.0.0 in /usr/local/lib/python3.7/dist-packages (from easse==0.2.4) (2.2.0)\n",
            "Requirement already satisfied: sacremoses in /usr/local/lib/python3.7/dist-packages (from easse==0.2.4) (0.0.53)\n",
            "Requirement already satisfied: seaborn in /usr/local/lib/python3.7/dist-packages (from easse==0.2.4) (0.11.2)\n",
            "Requirement already satisfied: sklearn in /usr/local/lib/python3.7/dist-packages (from easse==0.2.4) (0.0)\n",
            "Requirement already satisfied: stanfordnlp in /usr/local/lib/python3.7/dist-packages (from easse==0.2.4) (0.2.0)\n",
            "Requirement already satisfied: tqdm>=4.32.2 in /usr/local/lib/python3.7/dist-packages (from easse==0.2.4) (4.64.0)\n",
            "Requirement already satisfied: yattag in /usr/local/lib/python3.7/dist-packages (from easse==0.2.4) (1.14.0)\n",
            "Requirement already satisfied: plotly>=4.0.0 in /usr/local/lib/python3.7/dist-packages (from easse==0.2.4) (5.5.0)\n",
            "Requirement already satisfied: bert_score in /usr/local/lib/python3.7/dist-packages (from easse==0.2.4) (0.3.11)\n",
            "Requirement already satisfied: simalign in /usr/local/lib/python3.7/dist-packages (from easse==0.2.4) (0.3)\n",
            "Requirement already satisfied: scipy in /usr/local/lib/python3.7/dist-packages (from tseval@ git+https://github.com/facebookresearch/text-simplification-evaluation.git@main->easse==0.2.4) (1.7.3)\n",
            "Requirement already satisfied: torch in /usr/local/lib/python3.7/dist-packages (from tseval@ git+https://github.com/facebookresearch/text-simplification-evaluation.git@main->easse==0.2.4) (1.12.0+cu113)\n",
            "Requirement already satisfied: python-Levenshtein in /usr/local/lib/python3.7/dist-packages (from tseval@ git+https://github.com/facebookresearch/text-simplification-evaluation.git@main->easse==0.2.4) (0.12.2)\n",
            "Requirement already satisfied: gitpython in /usr/local/lib/python3.7/dist-packages (from tseval@ git+https://github.com/facebookresearch/text-simplification-evaluation.git@main->easse==0.2.4) (3.1.27)\n",
            "Requirement already satisfied: joblib in /usr/local/lib/python3.7/dist-packages (from nltk>=3.6.5->easse==0.2.4) (1.1.0)\n",
            "Requirement already satisfied: regex>=2021.8.3 in /usr/local/lib/python3.7/dist-packages (from nltk>=3.6.5->easse==0.2.4) (2022.6.2)\n",
            "Requirement already satisfied: tenacity>=6.2.0 in /usr/local/lib/python3.7/dist-packages (from plotly>=4.0.0->easse==0.2.4) (8.0.1)\n",
            "Requirement already satisfied: six in /usr/local/lib/python3.7/dist-packages (from plotly>=4.0.0->easse==0.2.4) (1.15.0)\n",
            "Requirement already satisfied: urllib3!=1.25.0,!=1.25.1,<1.26,>=1.21.1 in /usr/local/lib/python3.7/dist-packages (from requests>=2.21.0->easse==0.2.4) (1.24.3)\n",
            "Requirement already satisfied: chardet<4,>=3.0.2 in /usr/local/lib/python3.7/dist-packages (from requests>=2.21.0->easse==0.2.4) (3.0.4)\n",
            "Requirement already satisfied: idna<3,>=2.5 in /usr/local/lib/python3.7/dist-packages (from requests>=2.21.0->easse==0.2.4) (2.10)\n",
            "Requirement already satisfied: certifi>=2017.4.17 in /usr/local/lib/python3.7/dist-packages (from requests>=2.21.0->easse==0.2.4) (2022.6.15)\n",
            "Requirement already satisfied: lxml in /usr/local/lib/python3.7/dist-packages (from sacrebleu>=2.0.0->easse==0.2.4) (4.9.1)\n",
            "Requirement already satisfied: colorama in /usr/local/lib/python3.7/dist-packages (from sacrebleu>=2.0.0->easse==0.2.4) (0.4.5)\n",
            "Requirement already satisfied: portalocker in /usr/local/lib/python3.7/dist-packages (from sacrebleu>=2.0.0->easse==0.2.4) (2.5.1)\n",
            "Requirement already satisfied: tabulate>=0.8.9 in /usr/local/lib/python3.7/dist-packages (from sacrebleu>=2.0.0->easse==0.2.4) (0.8.10)\n",
            "Requirement already satisfied: packaging>=20.9 in /usr/local/lib/python3.7/dist-packages (from bert_score->easse==0.2.4) (21.3)\n",
            "Requirement already satisfied: transformers>=3.0.0numpy in /usr/local/lib/python3.7/dist-packages (from bert_score->easse==0.2.4) (4.21.1)\n",
            "Requirement already satisfied: pyparsing!=3.0.5,>=2.0.2 in /usr/local/lib/python3.7/dist-packages (from packaging>=20.9->bert_score->easse==0.2.4) (3.0.9)\n",
            "Requirement already satisfied: python-dateutil>=2.7.3 in /usr/local/lib/python3.7/dist-packages (from pandas->easse==0.2.4) (2.8.2)\n",
            "Requirement already satisfied: pytz>=2017.3 in /usr/local/lib/python3.7/dist-packages (from pandas->easse==0.2.4) (2022.1)\n",
            "Requirement already satisfied: typing-extensions in /usr/local/lib/python3.7/dist-packages (from torch->tseval@ git+https://github.com/facebookresearch/text-simplification-evaluation.git@main->easse==0.2.4) (4.1.1)\n",
            "Requirement already satisfied: importlib-metadata in /usr/local/lib/python3.7/dist-packages (from transformers>=3.0.0numpy->bert_score->easse==0.2.4) (4.12.0)\n",
            "Requirement already satisfied: huggingface-hub<1.0,>=0.1.0 in /usr/local/lib/python3.7/dist-packages (from transformers>=3.0.0numpy->bert_score->easse==0.2.4) (0.8.1)\n",
            "Requirement already satisfied: tokenizers!=0.11.3,<0.13,>=0.11.1 in /usr/local/lib/python3.7/dist-packages (from transformers>=3.0.0numpy->bert_score->easse==0.2.4) (0.12.1)\n",
            "Requirement already satisfied: pyyaml>=5.1 in /usr/local/lib/python3.7/dist-packages (from transformers>=3.0.0numpy->bert_score->easse==0.2.4) (5.4.1)\n",
            "Requirement already satisfied: filelock in /usr/local/lib/python3.7/dist-packages (from transformers>=3.0.0numpy->bert_score->easse==0.2.4) (3.7.1)\n",
            "Requirement already satisfied: gitdb<5,>=4.0.1 in /usr/local/lib/python3.7/dist-packages (from gitpython->tseval@ git+https://github.com/facebookresearch/text-simplification-evaluation.git@main->easse==0.2.4) (4.0.9)\n",
            "Requirement already satisfied: smmap<6,>=3.0.1 in /usr/local/lib/python3.7/dist-packages (from gitdb<5,>=4.0.1->gitpython->tseval@ git+https://github.com/facebookresearch/text-simplification-evaluation.git@main->easse==0.2.4) (5.0.0)\n",
            "Requirement already satisfied: zipp>=0.5 in /usr/local/lib/python3.7/dist-packages (from importlib-metadata->transformers>=3.0.0numpy->bert_score->easse==0.2.4) (3.8.1)\n",
            "Requirement already satisfied: cycler>=0.10 in /usr/local/lib/python3.7/dist-packages (from matplotlib->easse==0.2.4) (0.11.0)\n",
            "Requirement already satisfied: kiwisolver>=1.0.1 in /usr/local/lib/python3.7/dist-packages (from matplotlib->easse==0.2.4) (1.4.4)\n",
            "Requirement already satisfied: setuptools in /usr/local/lib/python3.7/dist-packages (from python-Levenshtein->tseval@ git+https://github.com/facebookresearch/text-simplification-evaluation.git@main->easse==0.2.4) (57.4.0)\n",
            "Requirement already satisfied: networkx==2.4 in /usr/local/lib/python3.7/dist-packages (from simalign->easse==0.2.4) (2.4)\n",
            "Requirement already satisfied: scikit-learn in /usr/local/lib/python3.7/dist-packages (from simalign->easse==0.2.4) (1.0.2)\n",
            "Requirement already satisfied: decorator>=4.3.0 in /usr/local/lib/python3.7/dist-packages (from networkx==2.4->simalign->easse==0.2.4) (4.4.2)\n",
            "Requirement already satisfied: threadpoolctl>=2.0.0 in /usr/local/lib/python3.7/dist-packages (from scikit-learn->simalign->easse==0.2.4) (3.1.0)\n",
            "Requirement already satisfied: protobuf in /usr/local/lib/python3.7/dist-packages (from stanfordnlp->easse==0.2.4) (3.17.3)\n",
            "Installing collected packages: easse\n",
            "  Attempting uninstall: easse\n",
            "    Found existing installation: easse 0.2.4\n",
            "    Can't uninstall 'easse'. No files were found to uninstall.\n",
            "  Running setup.py develop for easse\n",
            "Successfully installed easse-0.2.4\n"
          ]
        }
      ],
      "source": [
        "!git clone https://github.com/feralvam/easse.git\n",
        "%cd easse\n",
        "!pip install -e ."
      ]
    },
    {
      "cell_type": "code",
      "execution_count": null,
      "metadata": {
        "colab": {
          "base_uri": "https://localhost:8080/",
          "height": 304
        },
        "id": "M5HPv8KrIBYv",
        "outputId": "74f26243-2b43-491d-b318-f8fc6c847574"
      },
      "outputs": [
        {
          "ename": "ModuleNotFoundError",
          "evalue": "ignored",
          "output_type": "error",
          "traceback": [
            "\u001b[0;31m---------------------------------------------------------------------------\u001b[0m",
            "\u001b[0;31mModuleNotFoundError\u001b[0m                       Traceback (most recent call last)",
            "\u001b[0;32m<ipython-input-16-2439c095e4af>\u001b[0m in \u001b[0;36m<module>\u001b[0;34m()\u001b[0m\n\u001b[0;32m----> 1\u001b[0;31m \u001b[0;32mimport\u001b[0m \u001b[0measse\u001b[0m\u001b[0;34m.\u001b[0m\u001b[0mcli\u001b[0m\u001b[0;34m\u001b[0m\u001b[0;34m\u001b[0m\u001b[0m\n\u001b[0m",
            "\u001b[0;31mModuleNotFoundError\u001b[0m: No module named 'easse.cli'",
            "",
            "\u001b[0;31m---------------------------------------------------------------------------\u001b[0;32m\nNOTE: If your import is failing due to a missing package, you can\nmanually install dependencies using either !pip or !apt.\n\nTo view examples of installing some common dependencies, click the\n\"Open Examples\" button below.\n\u001b[0;31m---------------------------------------------------------------------------\u001b[0m\n"
          ]
        }
      ],
      "source": [
        ""
      ]
    },
    {
      "cell_type": "code",
      "execution_count": 9,
      "metadata": {
        "colab": {
          "base_uri": "https://localhost:8080/"
        },
        "id": "VF9gIZGo3sV3",
        "outputId": "b538b71e-9625-407c-a557-5e5f38b092b3"
      },
      "outputs": [
        {
          "output_type": "stream",
          "name": "stdout",
          "text": [
            "Looking in indexes: https://pypi.org/simple, https://us-python.pkg.dev/colab-wheels/public/simple/\n",
            "Requirement already satisfied: pyyaml==5.4.1 in /usr/local/lib/python3.7/dist-packages (5.4.1)\n"
          ]
        }
      ],
      "source": [
        "!pip install pyyaml==5.4.1"
      ]
    },
    {
      "cell_type": "code",
      "execution_count": 10,
      "metadata": {
        "id": "-pwE1Yr5-Nx2"
      },
      "outputs": [],
      "source": [
        "import spacy\n",
        "\n",
        "nlp = spacy.load('en_core_web_md')"
      ]
    },
    {
      "cell_type": "code",
      "execution_count": null,
      "metadata": {
        "colab": {
          "base_uri": "https://localhost:8080/"
        },
        "id": "Zn0BKcAKzUFq",
        "outputId": "8232429e-79d5-4259-c781-762fa21db3de"
      },
      "outputs": [
        {
          "output_type": "stream",
          "name": "stderr",
          "text": [
            "/usr/local/lib/python3.7/dist-packages/distributed/config.py:20: YAMLLoadWarning: calling yaml.load() without Loader=... is deprecated, as the default Loader is unsafe. Please read https://msg.pyyaml.org/load for full details.\n",
            "  defaults = yaml.load(f)\n"
          ]
        },
        {
          "output_type": "stream",
          "name": "stdout",
          "text": [
            "Creating \"wikilarge_detokenized\"...\n",
            "WikiLarge\n",
            "Creating \"/content/muss/resources/datasets/wikilarge\"...\n",
            "Downloading...\n",
            "... 100% - 55 MB - 21.56 MB/s - 2s\n",
            "Extracting...\n",
            "Processing...\n",
            "Done.\n",
            "Creating \"/content/muss/resources/datasets/wikilarge_detokenized\"...\n",
            "ASSET\n",
            "Creating \"/content/muss/resources/datasets/asset\"...\n",
            "Downloading...\n",
            "... 101% - 0 MB - 9.42 MB/s - 0s\n",
            "Adding newline at the end of /content/muss/resources/datasets/asset/valid.complex\n",
            "Downloading...\n",
            "... 101% - 0 MB - 11.00 MB/s - 0s\n",
            "Adding newline at the end of /content/muss/resources/datasets/asset/valid.simple.0\n",
            "Downloading...\n",
            "... 101% - 0 MB - 10.50 MB/s - 0s\n",
            "Adding newline at the end of /content/muss/resources/datasets/asset/valid.complex\n",
            "Downloading...\n",
            "... 100% - 0 MB - 9.71 MB/s - 0s\n",
            "Adding newline at the end of /content/muss/resources/datasets/asset/valid.simple.1\n",
            "Downloading...\n",
            "... 101% - 0 MB - 10.15 MB/s - 0s\n",
            "Adding newline at the end of /content/muss/resources/datasets/asset/valid.complex\n",
            "Downloading...\n",
            "... 100% - 0 MB - 9.27 MB/s - 0s\n",
            "Adding newline at the end of /content/muss/resources/datasets/asset/valid.simple.2\n",
            "Downloading...\n",
            "... 101% - 0 MB - 10.58 MB/s - 0s\n",
            "Adding newline at the end of /content/muss/resources/datasets/asset/valid.complex\n",
            "Downloading...\n",
            "... 102% - 0 MB - 11.01 MB/s - 0s\n",
            "Adding newline at the end of /content/muss/resources/datasets/asset/valid.simple.3\n",
            "Downloading...\n",
            "... 101% - 0 MB - 11.01 MB/s - 0s\n",
            "Adding newline at the end of /content/muss/resources/datasets/asset/valid.complex\n",
            "Downloading...\n",
            "... 100% - 0 MB - 11.72 MB/s - 0s\n",
            "Adding newline at the end of /content/muss/resources/datasets/asset/valid.simple.4\n",
            "Downloading...\n",
            "... 101% - 0 MB - 11.97 MB/s - 0s\n",
            "Adding newline at the end of /content/muss/resources/datasets/asset/valid.complex\n",
            "Downloading...\n",
            "... 101% - 0 MB - 9.21 MB/s - 0s\n",
            "Adding newline at the end of /content/muss/resources/datasets/asset/valid.simple.5\n",
            "Downloading...\n",
            "... 101% - 0 MB - 11.21 MB/s - 0s\n",
            "Adding newline at the end of /content/muss/resources/datasets/asset/valid.complex\n",
            "Downloading...\n",
            "... 104% - 0 MB - 9.31 MB/s - 0s\n",
            "Adding newline at the end of /content/muss/resources/datasets/asset/valid.simple.6\n",
            "Downloading...\n",
            "... 101% - 0 MB - 12.42 MB/s - 0s\n",
            "Adding newline at the end of /content/muss/resources/datasets/asset/valid.complex\n",
            "Downloading...\n",
            "... 103% - 0 MB - 9.16 MB/s - 0s\n",
            "Adding newline at the end of /content/muss/resources/datasets/asset/valid.simple.7\n",
            "Downloading...\n",
            "... 101% - 0 MB - 10.41 MB/s - 0s\n",
            "Adding newline at the end of /content/muss/resources/datasets/asset/valid.complex\n",
            "Downloading...\n",
            "... 103% - 0 MB - 11.76 MB/s - 0s\n",
            "Adding newline at the end of /content/muss/resources/datasets/asset/valid.simple.8\n",
            "Downloading...\n",
            "... 101% - 0 MB - 9.64 MB/s - 0s\n",
            "Adding newline at the end of /content/muss/resources/datasets/asset/valid.complex\n",
            "Downloading...\n",
            "... 100% - 0 MB - 12.24 MB/s - 0s\n",
            "Adding newline at the end of /content/muss/resources/datasets/asset/valid.simple.9\n",
            "Downloading...\n",
            "... 112% - 0 MB - 6.76 MB/s - 0s\n",
            "Adding newline at the end of /content/muss/resources/datasets/asset/test.complex\n",
            "Downloading...\n",
            "... 115% - 0 MB - 16.05 MB/s - 0s\n",
            "Adding newline at the end of /content/muss/resources/datasets/asset/test.simple.0\n",
            "Downloading...\n",
            "... 112% - 0 MB - 7.37 MB/s - 0s\n",
            "Adding newline at the end of /content/muss/resources/datasets/asset/test.complex\n",
            "Downloading...\n",
            "... 120% - 0 MB - 13.68 MB/s - 0s\n",
            "Adding newline at the end of /content/muss/resources/datasets/asset/test.simple.1\n",
            "Downloading...\n",
            "... 112% - 0 MB - 4.98 MB/s - 0s\n",
            "Adding newline at the end of /content/muss/resources/datasets/asset/test.complex\n",
            "Downloading...\n",
            "... 119% - 0 MB - 13.76 MB/s - 0s\n",
            "Adding newline at the end of /content/muss/resources/datasets/asset/test.simple.2\n",
            "Downloading...\n",
            "... 112% - 0 MB - 6.99 MB/s - 0s\n",
            "Adding newline at the end of /content/muss/resources/datasets/asset/test.complex\n",
            "Downloading...\n",
            "... 109% - 0 MB - 13.44 MB/s - 0s\n",
            "Adding newline at the end of /content/muss/resources/datasets/asset/test.simple.3\n",
            "Downloading...\n",
            "... 112% - 0 MB - 6.33 MB/s - 0s\n",
            "Adding newline at the end of /content/muss/resources/datasets/asset/test.complex\n",
            "Downloading...\n",
            "... 114% - 0 MB - 12.99 MB/s - 0s\n",
            "Adding newline at the end of /content/muss/resources/datasets/asset/test.simple.4\n",
            "Downloading...\n",
            "... 112% - 0 MB - 6.28 MB/s - 0s\n",
            "Adding newline at the end of /content/muss/resources/datasets/asset/test.complex\n",
            "Downloading...\n",
            "... 115% - 0 MB - 13.40 MB/s - 0s\n",
            "Adding newline at the end of /content/muss/resources/datasets/asset/test.simple.5\n",
            "Downloading...\n",
            "... 112% - 0 MB - 6.97 MB/s - 0s\n",
            "Adding newline at the end of /content/muss/resources/datasets/asset/test.complex\n",
            "Downloading...\n",
            "... 114% - 0 MB - 12.30 MB/s - 0s\n",
            "Adding newline at the end of /content/muss/resources/datasets/asset/test.simple.6\n",
            "Downloading...\n",
            "... 112% - 0 MB - 7.26 MB/s - 0s\n",
            "Adding newline at the end of /content/muss/resources/datasets/asset/test.complex\n",
            "Downloading...\n",
            "... 118% - 0 MB - 14.89 MB/s - 0s\n",
            "Adding newline at the end of /content/muss/resources/datasets/asset/test.simple.7\n",
            "Downloading...\n",
            "... 112% - 0 MB - 7.43 MB/s - 0s\n",
            "Adding newline at the end of /content/muss/resources/datasets/asset/test.complex\n",
            "Downloading...\n",
            "... 114% - 0 MB - 14.00 MB/s - 0s\n",
            "Adding newline at the end of /content/muss/resources/datasets/asset/test.simple.8\n",
            "Downloading...\n",
            "... 112% - 0 MB - 8.39 MB/s - 0s\n",
            "Adding newline at the end of /content/muss/resources/datasets/asset/test.complex\n",
            "Downloading...\n",
            "... 115% - 0 MB - 15.24 MB/s - 0s\n",
            "Adding newline at the end of /content/muss/resources/datasets/asset/test.simple.9\n",
            "Done.\n",
            "Downloading...\n",
            "... 100% - 3528 MB - 19.38 MB/s - 182s\n",
            "Extracting...\n",
            "Downloading...\n",
            "... 100% - 1 MB - 12.94 MB/s - 0s\n",
            "Downloading...\n",
            "... 100% - 0 MB - 9.71 MB/s - 0s\n",
            "Downloading...\n",
            "... 100% - 0 MB - 15.88 MB/s - 0s\n",
            "fairseq_prepare_and_train...\n"
          ]
        },
        {
          "output_type": "stream",
          "name": "stderr",
          "text": [
            "/content/muss/muss/fairseq/main.py:32: UserWarning: WARNING: Dataset has validation samples in training set!\n",
            "  warnings.warn('WARNING: Dataset has validation samples in training set!')\n",
            "/content/muss/muss/fairseq/main.py:36: UserWarning: WARNING: Dataset has test samples in training set!\n",
            "  warnings.warn('WARNING: Dataset has test samples in training set!')\n"
          ]
        },
        {
          "output_type": "stream",
          "name": "stdout",
          "text": [
            "exp_dir=/content/muss/experiments/fairseq/local_1660226785205\n",
            "Creating \"/content/muss/resources/datasets/_6c7988785a46152b2ab82df72ca814a6\"...\n",
            "Creating preprocessed dataset with LengthRatioPreprocessor(target_ratio=0.8, use_short_name=False): wikilarge_detokenized -> _6c7988785a46152b2ab82df72ca814a6\n",
            "Setting n_jobs={n_jobs} > n_cpus={n_cpus}, setting n_jobs={n_cpus}\n",
            "Setting n_jobs={n_jobs} > n_cpus={n_cpus}, setting n_jobs={n_cpus}\n",
            "Setting n_jobs={n_jobs} > n_cpus={n_cpus}, setting n_jobs={n_cpus}\n",
            "Creating \"/content/muss/resources/datasets/_d0b297f1dd76754fe3740a3f9951d84a\"...\n",
            "Creating preprocessed dataset with ReplaceOnlyLevenshteinPreprocessor(bucket_size=0.05, noise_std=0, target_ratio=0.8, use_short_name=False): _6c7988785a46152b2ab82df72ca814a6 -> _d0b297f1dd76754fe3740a3f9951d84a\n",
            "Setting n_jobs={n_jobs} > n_cpus={n_cpus}, setting n_jobs={n_cpus}\n",
            "Setting n_jobs={n_jobs} > n_cpus={n_cpus}, setting n_jobs={n_cpus}\n",
            "Setting n_jobs={n_jobs} > n_cpus={n_cpus}, setting n_jobs={n_cpus}\n",
            "Creating \"/content/muss/resources/datasets/_51cae6e20661bc4ea3ac9c6dc0c5ff1f\"...\n",
            "Creating preprocessed dataset with WordRankRatioPreprocessor(language='en', target_ratio=0.8, use_short_name=False): _d0b297f1dd76754fe3740a3f9951d84a -> _51cae6e20661bc4ea3ac9c6dc0c5ff1f\n",
            "Setting n_jobs={n_jobs} > n_cpus={n_cpus}, setting n_jobs={n_cpus}\n",
            "Setting n_jobs={n_jobs} > n_cpus={n_cpus}, setting n_jobs={n_cpus}\n",
            "Setting n_jobs={n_jobs} > n_cpus={n_cpus}, setting n_jobs={n_cpus}\n",
            "Creating \"/content/muss/resources/datasets/_0f18b8f2eafdb3c6b786f8e658657c2c\"...\n",
            "Creating preprocessed dataset with DependencyTreeDepthRatioPreprocessor(language='en', target_ratio=0.8, use_short_name=False): _51cae6e20661bc4ea3ac9c6dc0c5ff1f -> _0f18b8f2eafdb3c6b786f8e658657c2c\n",
            "Setting n_jobs={n_jobs} > n_cpus={n_cpus}, setting n_jobs={n_cpus}\n"
          ]
        }
      ],
      "source": [
        "# Copyright (c) Facebook, Inc. and its affiliates.\n",
        "# All rights reserved.\n",
        "#\n",
        "# This source code is licensed under the license found in the\n",
        "# LICENSE file in the root directory of this source tree.\n",
        "\n",
        "from muss.fairseq.main import fairseq_train_and_evaluate_with_parametrization\n",
        "from muss.mining.training import get_bart_kwargs, get_score_rows\n",
        "from muss.resources.prepare import prepare_wikilarge_detokenized, prepare_asset\n",
        "from muss.resources.datasets import create_smaller_dataset\n",
        "\n",
        "\n",
        "# This dataset should exist in resources/datasets/ and contain the following files:\n",
        "# train.complex, train.simple, valid.complex, valid.simple, test.complex, test.simple\n",
        "prepare_wikilarge_detokenized()\n",
        "prepare_asset()\n",
        "dataset = 'wikilarge_detokenized'\n",
        "kwargs = get_bart_kwargs(dataset=dataset, language='en', use_access=True)\n",
        "kwargs['train_kwargs']['ngpus'] = 1  # Set this from 8 to 1 for local training\n",
        "kwargs['train_kwargs']['max_tokens'] = 512  # Lower this number to prevent OOM\n",
        "kwargs['train_kwargs']['warmup_updates'] = 1000\n",
        "kwargs['train_kwargs']['max_update'] = 3000\n",
        "kwargs['train_kwargs']['save_interval_updates'] = 1000\n",
        "result = fairseq_train_and_evaluate_with_parametrization(**kwargs)\n"
      ]
    },
    {
      "cell_type": "code",
      "execution_count": null,
      "metadata": {
        "id": "LCFzVjXel-yP"
      },
      "outputs": [],
      "source": [
        "import time\n",
        "while True:\n",
        "  time.sleep(0)"
      ]
    },
    {
      "cell_type": "code",
      "execution_count": null,
      "metadata": {
        "id": "yMnvDI50mdhr"
      },
      "outputs": [],
      "source": [
        ""
      ]
    },
    {
      "cell_type": "code",
      "source": [
        ""
      ],
      "metadata": {
        "id": "eb3zE8hb3oNE"
      },
      "execution_count": null,
      "outputs": []
    }
  ],
  "metadata": {
    "accelerator": "GPU",
    "colab": {
      "background_execution": "on",
      "name": "muss_training.ipynb",
      "provenance": [],
      "collapsed_sections": [],
      "authorship_tag": "ABX9TyMAQTLa6jZP6JU2N1xx4XwP",
      "include_colab_link": true
    },
    "gpuClass": "standard",
    "kernelspec": {
      "display_name": "Python 3",
      "name": "python3"
    },
    "language_info": {
      "name": "python"
    }
  },
  "nbformat": 4,
  "nbformat_minor": 0
}